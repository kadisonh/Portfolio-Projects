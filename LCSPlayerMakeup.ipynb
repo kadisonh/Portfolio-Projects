{
 "cells": [
  {
   "cell_type": "markdown",
   "id": "2897f76a",
   "metadata": {},
   "source": [
    "# LCS Player Makeup\n",
    "\n",
    "## I browse the league of legends reddit a lot and a common complaint I see about the LCS is that many teams rely on imports instead of native talent. So for this analysis I wanted to see how many imports are present in each season starting with the most '21 Summer (since summer is generally the roster that organizations are banking on for the worlds spot)"
   ]
  },
  {
   "cell_type": "code",
   "execution_count": 67,
   "id": "07468d0f",
   "metadata": {},
   "outputs": [],
   "source": [
    "# Import necessary libraries\n",
    "\n",
    "import requests\n",
    "from bs4 import BeautifulSoup\n",
    "import pandas as pd\n",
    "import numpy as np\n",
    "from matplotlib import pyplot as plt"
   ]
  },
  {
   "cell_type": "code",
   "execution_count": 68,
   "id": "450697e1",
   "metadata": {
    "scrolled": true
   },
   "outputs": [],
   "source": [
    "master_df = pd.DataFrame(data=None)\n",
    "master_df[\"Name\"] = []\n",
    "master_df[\"Role\"] = []\n",
    "master_df[\"Team\"] = []\n",
    "master_df[\"Region\"] = []\n",
    "master_df[\"Country\"] = []\n",
    "master_df[\"Year Season\"] = []"
   ]
  },
  {
   "cell_type": "code",
   "execution_count": 69,
   "id": "bf693a64",
   "metadata": {},
   "outputs": [],
   "source": [
    "urls = [\"https://lol.fandom.com/wiki/LCS/2021_Season/Summer_Season/Team_Rosters\", \n",
    "        \"https://lol.fandom.com/wiki/LCS/2021_Season/Spring_Season/Team_Rosters\",\n",
    "        \"https://lol.fandom.com/wiki/LCS/2020_Season/Summer_Season/Team_Rosters\",\n",
    "        \"https://lol.fandom.com/wiki/LCS/2020_Season/Spring_Season/Team_Rosters\",\n",
    "        \"https://lol.fandom.com/wiki/LCS/2019_Season/Summer_Season/Team_Rosters\",\n",
    "        \"https://lol.fandom.com/wiki/LCS/2019_Season/Spring_Season/Team_Rosters\",\n",
    "        \"https://lol.fandom.com/wiki/NA_LCS/2018_Season/Summer_Season/Team_Rosters\",\n",
    "        \"https://lol.fandom.com/wiki/NA_LCS/2018_Season/Spring_Season/Team_Rosters\",\n",
    "        \"https://lol.fandom.com/wiki/NA_LCS/2017_Season/Summer_Season/Team_Rosters\",\n",
    "        \"https://lol.fandom.com/wiki/NA_LCS/2017_Season/Spring_Season/Team_Rosters\",\n",
    "        \"https://lol.fandom.com/wiki/NA_LCS/2016_Season/Summer_Season/Team_Rosters\",\n",
    "        \"https://lol.fandom.com/wiki/NA_LCS/2016_Season/Spring_Season/Team_Rosters\",\n",
    "        \"https://lol.fandom.com/wiki/NA_LCS/2015_Season/Summer_Season/Team_Rosters\",\n",
    "        \"https://lol.fandom.com/wiki/NA_LCS/2015_Season/Spring_Season/Team_Rosters\",]"
   ]
  },
  {
   "cell_type": "code",
   "execution_count": 70,
   "id": "c1264fed",
   "metadata": {},
   "outputs": [],
   "source": [
    "# Returns list of player rows (coaches included) from the respective lol liquipedia link\n",
    "\n",
    "def get_player_rows(soup):\n",
    "    return soup.find_all(\"tr\", {\"class\": \"multirow-highlighter\"})"
   ]
  },
  {
   "cell_type": "code",
   "execution_count": 71,
   "id": "8dc58e23",
   "metadata": {},
   "outputs": [],
   "source": [
    "# Returns list of player regions (regions represent group of countries, imports count as not from NA region)\n",
    "\n",
    "def get_player_regions(player_regions, player_rows):\n",
    "    for player_row in player_rows:\n",
    "        player_region = player_row.find(\"div\", {\"class\": \"region-icon\"})\n",
    "        if (player_region is not None):\n",
    "            player_regions.append(player_region.text)\n",
    "        else:\n",
    "            player_regions.append(\"NaN\")\n",
    "    return player_regions"
   ]
  },
  {
   "cell_type": "code",
   "execution_count": 72,
   "id": "9706f68a",
   "metadata": {},
   "outputs": [],
   "source": [
    "# Returns list of player countries (more specific than region, i.e. Germany is EU)\n",
    "\n",
    "def get_player_countries(player_countries, player_rows):\n",
    "    for player_row in player_rows:\n",
    "        player_country = player_row.find(\"span\", {\"class\": \"sprite country-sprite\"})\n",
    "        if (player_country is not None):\n",
    "            player_countries.append(player_country[\"title\"])\n",
    "        else:\n",
    "            player_countries.append(\"NaN\")\n",
    "    return player_countries"
   ]
  },
  {
   "cell_type": "code",
   "execution_count": 73,
   "id": "e079d3e1",
   "metadata": {},
   "outputs": [],
   "source": [
    "# Returns list of player names\n",
    "\n",
    "def get_player_names(player_names, player_rows):\n",
    "    for player_row in player_rows:\n",
    "        player_name = player_row.find(\"a\", {\"class\": \"catlink-players\"})\n",
    "        if (player_name is not None):\n",
    "            player_names.append(player_name.text)\n",
    "        else:\n",
    "            player_names.append(\"NaN\")\n",
    "    return player_names"
   ]
  },
  {
   "cell_type": "code",
   "execution_count": 74,
   "id": "0f7cd54c",
   "metadata": {},
   "outputs": [],
   "source": [
    "# Returns list of player roles\n",
    "\n",
    "def get_player_roles(player_roles, player_rows):\n",
    "    for player_row in player_rows:\n",
    "        player_role = player_row.find(\"span\", {\"class\": \"role-sprite\"})\n",
    "        player_roles.append(player_role[\"title\"])\n",
    "    return player_roles"
   ]
  },
  {
   "cell_type": "code",
   "execution_count": 75,
   "id": "256a333b",
   "metadata": {},
   "outputs": [],
   "source": [
    "# Returns a list of the teams present that season (does not show too much variance once LCS was franchised)\n",
    "\n",
    "def get_teams(teams, soup):\n",
    "    team_names_html = soup.find_all(\"a\", {\"class\": \"catlink-teams\"})\n",
    "    for team_name in team_names_html:\n",
    "        teams.append(team_name.text)\n",
    "    return teams"
   ]
  },
  {
   "cell_type": "code",
   "execution_count": 76,
   "id": "0f5882df",
   "metadata": {},
   "outputs": [],
   "source": [
    "# Returns a complete list of teams corresponding to players so can be attached to dataframe\n",
    "\n",
    "def generate_player_teams(df, extended_teams_list, team_names):\n",
    "    k = -1\n",
    "    if (\"Coach\" in set(df[\"Role\"])):\n",
    "        for i, j in df.iterrows():\n",
    "            if ((j[\"Role\"] == \"Top Laner\") & (df.iloc[i-1][\"Role\"] == \"Coach\")):\n",
    "                k += 1\n",
    "            extended_teams_list.append(team_names[k])\n",
    "        return extended_teams_list\n",
    "    else:\n",
    "        for i, j in df.iterrows():\n",
    "            if ((j[\"Role\"] == \"Top Laner\") & (df.iloc[i-1][\"Role\"] == \"Support\")):\n",
    "                k += 1\n",
    "            extended_teams_list.append(team_names[k])\n",
    "        return extended_teams_list"
   ]
  },
  {
   "cell_type": "code",
   "execution_count": 77,
   "id": "4264bd56",
   "metadata": {},
   "outputs": [],
   "source": [
    "# Get the year and the season and return combined string\n",
    "\n",
    "def get_year_and_split(soup):\n",
    "    title = soup.find(\"h1\", {\"class\": \"page-header__title\"})\n",
    "    year_starting_index = title.text.find(\"20\")\n",
    "    year = title.text[year_starting_index: year_starting_index+4]\n",
    "    if (title.text.find(\"Summer\") != -1):\n",
    "        season_starting_index = title.text.find(\"Summer\")\n",
    "        season = title.text[season_starting_index: season_starting_index+6]\n",
    "    else:\n",
    "        season_starting_index = title.text.find(\"Spring\")\n",
    "        season = title.text[season_starting_index: season_starting_index+6]\n",
    "    return year + \" \" + season"
   ]
  },
  {
   "cell_type": "code",
   "execution_count": 78,
   "id": "277fd2d1",
   "metadata": {},
   "outputs": [],
   "source": [
    "def generate_year_and_split_list(df, year):\n",
    "    final_list = []\n",
    "    for x in range(df.shape[0]):\n",
    "        final_list.append(year)\n",
    "        x += 1\n",
    "    return final_list"
   ]
  },
  {
   "cell_type": "code",
   "execution_count": 79,
   "id": "c0bcf05a",
   "metadata": {
    "scrolled": true
   },
   "outputs": [],
   "source": [
    "for url in urls:\n",
    "    \n",
    "    url_page = requests.get(url)\n",
    "    url_soup = BeautifulSoup(url_page.content, \"html.parser\")\n",
    "    url_rows = get_player_rows(url_soup)\n",
    "    \n",
    "    names = []\n",
    "    roles = []\n",
    "    player_teams = []\n",
    "    regions = []\n",
    "    countries = []\n",
    "    teams = []\n",
    "\n",
    "    names = get_player_names(names, url_rows)\n",
    "    roles = get_player_roles(roles, url_rows)\n",
    "    regions = get_player_regions(regions, url_rows)\n",
    "    countries = get_player_countries(countries, url_rows)\n",
    "    teams = get_teams(teams, url_soup)\n",
    "    season = get_year_and_split(url_soup)\n",
    "    \n",
    "    d = {'Name': names, 'Role': roles, 'Region': regions, 'Country': countries}\n",
    "    df = pd.DataFrame(data=d)\n",
    "    player_teams = generate_player_teams(df, player_teams, teams)\n",
    "    df.insert(2, 'Team', player_teams)\n",
    "    \n",
    "    seasons = generate_year_and_split_list(df, season)\n",
    "    \n",
    "    df[\"Year Season\"] = seasons\n",
    "    \n",
    "    master_df = pd.concat([master_df, df], sort=False)\n",
    "    \n",
    "master_df = master_df.replace(\"NaN\", pd.NA)\n",
    "\n",
    "master_df = master_df.dropna()"
   ]
  },
  {
   "cell_type": "code",
   "execution_count": 80,
   "id": "9818353c",
   "metadata": {},
   "outputs": [],
   "source": [
    "master_df_filtered = master_df[master_df[\"Role\"] != \"Coach\"]"
   ]
  },
  {
   "cell_type": "code",
   "execution_count": 81,
   "id": "cbe465e7",
   "metadata": {},
   "outputs": [],
   "source": [
    "def get_pct_nat(df, season):\n",
    "    season_df = master_df_filtered[master_df_filtered[\"Year Season\"] == season]\n",
    "    season_totl_p = season_df.shape[0]\n",
    "    season_nat_p = season_df[(season_df[\"Region\"] == \"NA\") | (season_df[\"Region\"] == \"OCE\")].shape[0]\n",
    "    season_nat_p_pct = round(season_nat_p / season_totl_p * 100, 2)\n",
    "    return season_nat_p_pct"
   ]
  },
  {
   "cell_type": "code",
   "execution_count": 84,
   "id": "0df43659",
   "metadata": {},
   "outputs": [],
   "source": [
    "sum_21_nat_p_pct = get_pct_nat(master_df_filtered, \"2021 Summer\")\n",
    "\n",
    "spg_21_nat_p_pct = get_pct_nat(master_df_filtered, \"2021 Spring\")\n",
    "\n",
    "sum_20_nat_p_pct = get_pct_nat(master_df_filtered, \"2020 Summer\")\n",
    "\n",
    "sum_20_nat_p_pct = get_pct_nat(master_df_filtered, \"2020 Spring\")\n",
    "\n",
    "sum_19_nat_p_pct = get_pct_nat(master_df_filtered, \"2019 Summer\")\n",
    "\n",
    "sum_19_nat_p_pct = get_pct_nat(master_df_filtered, \"2019 Spring\")\n",
    "\n",
    "sum_18_nat_p_pct = get_pct_nat(master_df_filtered, \"2018 Summer\")\n",
    "\n",
    "sum_18_nat_p_pct = get_pct_nat(master_df_filtered, \"2018 Spring\")\n",
    "\n",
    "sum_17_nat_p_pct = get_pct_nat(master_df_filtered, \"2017 Summer\")\n",
    "\n",
    "sum_17_nat_p_pct = get_pct_nat(master_df_filtered, \"2017 Spring\")\n",
    "\n",
    "sum_16_nat_p_pct = get_pct_nat(master_df_filtered, \"2016 Summer\")\n",
    "\n",
    "sum_16_nat_p_pct = get_pct_nat(master_df_filtered, \"2016 Spring\")\n",
    "\n",
    "sum_15_nat_p_pct = get_pct_nat(master_df_filtered, \"2015 Summer\")\n",
    "\n",
    "sum_15_nat_p_pct = get_pct_nat(master_df_filtered, \"2015 Spring\")"
   ]
  },
  {
   "cell_type": "code",
   "execution_count": 85,
   "id": "6ad42eec",
   "metadata": {},
   "outputs": [],
   "source": [
    "all_pct = {\"Y\": [spg_15_nat_p_pct, sum_15_nat_p_pct, spg_16_nat_p_pct, sum_16_nat_p_pct, spg_17_nat_p_pct, sum_17_nat_p_pct, \n",
    "                 spg_18_nat_p_pct, sum_18_nat_p_pct, spg_19_nat_p_pct, sum_19_nat_p_pct, spg_20_nat_p_pct, sum_20_nat_p_pct, \n",
    "                 spg_21_nat_p_pct, sum_21_nat_p_pct],\n",
    "           \"X\": [\"15 SPG\", \"15 SUM\", \"16 SPG\", \"16 SUM\", \"17 SPG\", \"17 SUM\", \"18 SPG\", \"18 SUM\", \"19 SPG\", \"19 SUM\",\n",
    "                 \"20 SPG\", \"20 SUM\", \"21 SPG\", \"21 SUM\"]}"
   ]
  },
  {
   "cell_type": "code",
   "execution_count": 86,
   "id": "61435acc",
   "metadata": {},
   "outputs": [
    {
     "data": {
      "image/png": "[encoded data removed]",
      "text/plain": [
       "<Figure size 720x720 with 1 Axes>"
      ]
     },
     "metadata": {
      "needs_background": "light"
     },
     "output_type": "display_data"
    }
   ],
   "source": [
    "fig, ax = plt.subplots(figsize=(10,10));\n",
    "ax.bar(all_pct[\"X\"], all_pct[\"Y\"],);\n",
    "plt.xticks(rotation = 45);\n",
    "ax.set_ylabel(\"PCT of Native Talent\", fontdict={'size': 12});\n",
    "ax.set_ylim(bottom=0.0, top=100.0)\n",
    "ax.set_yticks(np.arange(0, 110, 10))\n",
    "ax.set_xlabel(\"Year Season\", fontdict={'size': 12});\n",
    "ax.set_title(\"PCT of Native Talent Each LCS Season\")\n",
    "ax.tick_params(axis='both', which='major', labelsize=10)"
   ]
  }
 ],
 "metadata": {
  "kernelspec": {
   "display_name": "Python 3 (ipykernel)",
   "language": "python",
   "name": "python3"
  },
  "language_info": {
   "codemirror_mode": {
    "name": "ipython",
    "version": 3
   },
   "file_extension": ".py",
   "mimetype": "text/x-python",
   "name": "python",
   "nbconvert_exporter": "python",
   "pygments_lexer": "ipython3",
   "version": "3.10.2"
  }
 },
 "nbformat": 4,
 "nbformat_minor": 5
}
